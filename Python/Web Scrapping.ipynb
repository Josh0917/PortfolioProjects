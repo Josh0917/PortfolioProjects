{
 "cells": [
  {
   "cell_type": "code",
   "execution_count": 36,
   "id": "3e39dad2",
   "metadata": {},
   "outputs": [],
   "source": [
    "import requests\n",
    "import smtplib\n",
    "import time\n",
    "import datetime\n",
    "import csv\n",
    "import pandas as pd\n",
    "from bs4 import BeautifulSoup\n"
   ]
  },
  {
   "cell_type": "code",
   "execution_count": 37,
   "id": "afdd6a2c",
   "metadata": {},
   "outputs": [
    {
     "name": "stdout",
     "output_type": "stream",
     "text": [
      "\n",
      "                   Funny Got Data MIS Data Systems Business Analyst T-Shirt\n",
      "                  \n",
      "\n",
      "\n",
      "\n",
      "\n",
      "\n",
      "                  $16.99\n",
      "                 \n",
      "\n",
      "\n",
      "                   $\n",
      "                  \n",
      "\n",
      "                   16\n",
      "                   \n",
      "                    .\n",
      "                   \n",
      "\n",
      "\n",
      "                   99\n",
      "                  \n",
      "\n",
      "\n",
      "\n",
      "\n",
      "\n",
      "\n",
      "\n",
      "\n",
      "\n",
      "\n",
      "\n",
      "\n",
      "\n",
      "                    15 ratings\n",
      "                   \n",
      "\n",
      "                  Brand: MIS Business & Data Analyst Got Data Designs\n",
      "                 \n"
     ]
    }
   ],
   "source": [
    "#web_scrapping\n",
    "URL = 'https://www.amazon.com/Funny-Data-Systems-Business-Analyst/dp/B07FNW9FGJ/ref=sr_1_3?dchild=1&keywords=data%2Banalyst%2Btshirt&qid=1626655184&sr=8-3&customId=B0752XJYNL&th=1'\n",
    "\n",
    "headers = {\"User-Agent\": \"Mozilla/5.0 (Windows NT 10.0; Win64; x64) AppleWebKit/537.36 (KHTML, like Gecko) Chrome/104.0.5112.102 Safari/537.36 OPR/90.0.4480.117\", \"Accept-Encoding\":\"gzip, deflate\", \"Accept\":\"text/html,application/xhtml+xml,application/xml;q=0.9,*/*;q=0.8\", \"DNT\":\"1\",\"Connection\":\"close\", \"Upgrade-Insecure-Requests\":\"1\"}\n",
    "\n",
    "page = requests.get(URL, headers=headers)\n",
    "\n",
    "soup1 = BeautifulSoup(page.content, \"html.parser\")\n",
    "\n",
    "soup2 = BeautifulSoup(soup1.prettify(), \"html.parser\")\n",
    "\n",
    "title = soup2.find(id='productTitle').get_text()\n",
    "\n",
    "price = soup2.find(id='corePriceDisplay_desktop_feature_div').get_text()\n",
    "\n",
    "ratings = soup2.find(id='acrCustomerReviewText').get_text()\n",
    "\n",
    "brand = soup2.find(id='bylineInfo').get_text()\n",
    "\n",
    "\n",
    "print(title)\n",
    "print(price)\n",
    "print(ratings)\n",
    "print(brand)"
   ]
  },
  {
   "cell_type": "code",
   "execution_count": 38,
   "id": "031c54a5",
   "metadata": {},
   "outputs": [
    {
     "name": "stdout",
     "output_type": "stream",
     "text": [
      "Funny Got Data MIS Data Systems Business Analyst T-Shirt\n",
      "Brand: MIS Business & Data Analyst Got Data Designs\n",
      "$16.99\n",
      "15 ratings\n"
     ]
    }
   ],
   "source": [
    "#cleaning\n",
    "price = price.strip()[:6]\n",
    "title = title.strip()\n",
    "brand = brand.strip()\n",
    "ratings = ratings.strip()\n",
    "\n",
    "print(title)\n",
    "print(brand)\n",
    "print(price)\n",
    "print(ratings)"
   ]
  },
  {
   "cell_type": "code",
   "execution_count": 39,
   "id": "aada3d60",
   "metadata": {},
   "outputs": [],
   "source": [
    "#creating csv\n",
    "header = ['Product','Price','Brand','Ratings']\n",
    "data = [title,price,brand,ratings]\n",
    "\n",
    "#commented out to avoid new data deletion\n",
    "\n",
    "#with open('AmazonScrappingDataset.csv','w',newline='',encoding='UTF8') as f:\n",
    "    #writer = csv.writer(f)\n",
    "    #writer.writerow(header)\n",
    "    #writer.writerow(data)"
   ]
  },
  {
   "cell_type": "code",
   "execution_count": 40,
   "id": "9b2c3d10",
   "metadata": {},
   "outputs": [
    {
     "name": "stdout",
     "output_type": "stream",
     "text": [
      "2022-09-23\n"
     ]
    }
   ],
   "source": [
    "#dating code\n",
    "today = datetime.date.today()\n",
    "\n",
    "print(today)"
   ]
  },
  {
   "cell_type": "code",
   "execution_count": 43,
   "id": "30d4457a",
   "metadata": {},
   "outputs": [
    {
     "name": "stdout",
     "output_type": "stream",
     "text": [
      "                                             Product   Price  \\\n",
      "0  Funny Got Data MIS Data Systems Business Analy...  $16.99   \n",
      "\n",
      "                                               Brand     Ratings  \n",
      "0  Brand: MIS Business & Data Analyst Got Data De...  15 ratings  \n"
     ]
    }
   ],
   "source": [
    "df = pd.read_csv('C:/Users/dbzfa/PycharmProjects/Web Scraping/AmazonScrappingDataset.csv')\n",
    "\n",
    "print(df)"
   ]
  },
  {
   "cell_type": "code",
   "execution_count": 44,
   "id": "f3309548",
   "metadata": {},
   "outputs": [],
   "source": [
    "#appending\n",
    "\n",
    "with open('AmazonScrappingDataset.csv','a+',newline='',encoding='UTF8') as f:\n",
    "    writer = csv.writer(f)\n",
    "    writer.writerow(data)"
   ]
  },
  {
   "cell_type": "code",
   "execution_count": 46,
   "id": "d01137ce",
   "metadata": {},
   "outputs": [],
   "source": [
    "#automating\n",
    "def check_price():\n",
    "    URL = 'https://www.amazon.com/Funny-Data-Systems-Business-Analyst/dp/B07FNW9FGJ/ref=sr_1_3?dchild=1&keywords=data%2Banalyst%2Btshirt&qid=1626655184&sr=8-3&customId=B0752XJYNL&th=1'\n",
    "\n",
    "    headers = {\"User-Agent\": \"Mozilla/5.0 (Windows NT 10.0; Win64; x64) AppleWebKit/537.36 (KHTML, like Gecko) Chrome/104.0.5112.102 Safari/537.36 OPR/90.0.4480.117\", \"Accept-Encoding\":\"gzip, deflate\", \"Accept\":\"text/html,application/xhtml+xml,application/xml;q=0.9,*/*;q=0.8\", \"DNT\":\"1\",\"Connection\":\"close\", \"Upgrade-Insecure-Requests\":\"1\"}\n",
    "\n",
    "    page = requests.get(URL, headers=headers)\n",
    "\n",
    "    soup1 = BeautifulSoup(page.content, \"html.parser\")\n",
    "\n",
    "    soup2 = BeautifulSoup(soup1.prettify(), \"html.parser\")\n",
    "\n",
    "    title = soup2.find(id='productTitle').get_text()\n",
    "\n",
    "    price = soup2.find(id='corePriceDisplay_desktop_feature_div').get_text()\n",
    "\n",
    "    ratings = soup2.find(id='acrCustomerReviewText').get_text()\n",
    "\n",
    "    brand = soup2.find(id='bylineInfo').get_text()\n",
    "    \n",
    "    price = price.strip()[:6]\n",
    "    \n",
    "    title = title.strip()\n",
    "    \n",
    "    brand = brand.strip()\n",
    "    \n",
    "    ratings = ratings.strip()\n",
    "    \n",
    "    today = datetime.date.today()\n",
    "    \n",
    "    header = ['Product','Price','Brand','Ratings']\n",
    "    \n",
    "    data = [title,price,brand,ratings]\n",
    "    \n",
    "    with open('AmazonScrappingDataset.csv','a+',newline='',encoding='UTF8') as f:\n",
    "    \n",
    "        writer = csv.writer(f)\n",
    "        writer.writerow(data)\n",
    "    "
   ]
  },
  {
   "cell_type": "code",
   "execution_count": 47,
   "id": "2c943080",
   "metadata": {},
   "outputs": [
    {
     "ename": "KeyboardInterrupt",
     "evalue": "",
     "output_type": "error",
     "traceback": [
      "\u001b[1;31m---------------------------------------------------------------------------\u001b[0m",
      "\u001b[1;31mKeyboardInterrupt\u001b[0m                         Traceback (most recent call last)",
      "Input \u001b[1;32mIn [47]\u001b[0m, in \u001b[0;36m<cell line: 2>\u001b[1;34m()\u001b[0m\n\u001b[0;32m      1\u001b[0m \u001b[38;5;28;01mwhile\u001b[39;00m(\u001b[38;5;28;01mTrue\u001b[39;00m):\n\u001b[0;32m      2\u001b[0m     check_price()\n\u001b[1;32m----> 3\u001b[0m     \u001b[43mtime\u001b[49m\u001b[38;5;241;43m.\u001b[39;49m\u001b[43msleep\u001b[49m\u001b[43m(\u001b[49m\u001b[38;5;241;43m5\u001b[39;49m\u001b[43m)\u001b[49m\n",
      "\u001b[1;31mKeyboardInterrupt\u001b[0m: "
     ]
    }
   ],
   "source": [
    "while(True):\n",
    "    check_price()\n",
    "    time.sleep(5)"
   ]
  },
  {
   "cell_type": "code",
   "execution_count": 48,
   "id": "8618299b",
   "metadata": {},
   "outputs": [
    {
     "name": "stdout",
     "output_type": "stream",
     "text": [
      "                                             Product   Price  \\\n",
      "0  Funny Got Data MIS Data Systems Business Analy...  $16.99   \n",
      "1  Funny Got Data MIS Data Systems Business Analy...  $16.99   \n",
      "2  Funny Got Data MIS Data Systems Business Analy...  $16.99   \n",
      "3  Funny Got Data MIS Data Systems Business Analy...  $16.99   \n",
      "4  Funny Got Data MIS Data Systems Business Analy...  $16.99   \n",
      "5  Funny Got Data MIS Data Systems Business Analy...  $16.99   \n",
      "6  Funny Got Data MIS Data Systems Business Analy...  $16.99   \n",
      "\n",
      "                                               Brand     Ratings  \n",
      "0  Brand: MIS Business & Data Analyst Got Data De...  15 ratings  \n",
      "1  Brand: MIS Business & Data Analyst Got Data De...  15 ratings  \n",
      "2  Brand: MIS Business & Data Analyst Got Data De...  15 ratings  \n",
      "3  Brand: MIS Business & Data Analyst Got Data De...  15 ratings  \n",
      "4  Brand: MIS Business & Data Analyst Got Data De...  15 ratings  \n",
      "5  Brand: MIS Business & Data Analyst Got Data De...  15 ratings  \n",
      "6  Brand: MIS Business & Data Analyst Got Data De...  15 ratings  \n"
     ]
    }
   ],
   "source": [
    "df = pd.read_csv('C:/Users/dbzfa/PycharmProjects/Web Scraping/AmazonScrappingDataset.csv')\n",
    "\n",
    "print(df)"
   ]
  },
  {
   "cell_type": "code",
   "execution_count": null,
   "id": "04b0cc8b",
   "metadata": {},
   "outputs": [],
   "source": []
  }
 ],
 "metadata": {
  "kernelspec": {
   "display_name": "Python 3 (ipykernel)",
   "language": "python",
   "name": "python3"
  },
  "language_info": {
   "codemirror_mode": {
    "name": "ipython",
    "version": 3
   },
   "file_extension": ".py",
   "mimetype": "text/x-python",
   "name": "python",
   "nbconvert_exporter": "python",
   "pygments_lexer": "ipython3",
   "version": "3.9.12"
  }
 },
 "nbformat": 4,
 "nbformat_minor": 5
}
